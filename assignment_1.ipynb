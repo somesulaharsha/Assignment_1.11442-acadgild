{
 "cells": [
  {
   "cell_type": "markdown",
   "metadata": {},
   "source": [
    "# problem statement_1: my first program"
   ]
  },
  {
   "cell_type": "code",
   "execution_count": 23,
   "metadata": {},
   "outputs": [
    {
     "name": "stdout",
     "output_type": "stream",
     "text": [
      "welcome to data science boot camp\n"
     ]
    }
   ],
   "source": [
    "print(\"welcome to data science boot camp\")\n"
   ]
  },
  {
   "cell_type": "markdown",
   "metadata": {},
   "source": [
    "# PROBLEM STATEMENT_3: write a python program to accept user's first name and then getting them printed in the reverse order with the space between first name and last name."
   ]
  },
  {
   "cell_type": "code",
   "execution_count": 1,
   "metadata": {},
   "outputs": [
    {
     "name": "stdout",
     "output_type": "stream",
     "text": [
      "Input your First Name : HARSHA\n",
      "Input your Last Name : VARDHAN\n",
      "Hello  VARDHAN HARSHA\n"
     ]
    }
   ],
   "source": [
    "first_name = input(\"Input your First Name : \")\n",
    "last_name = input(\"Input your Last Name : \")\n",
    "print (\"Hello  \" + last_name + \" \" + first_name)\n"
   ]
  },
  {
   "cell_type": "markdown",
   "metadata": {},
   "source": [
    "# PROBELM STATEMENT_4: WRITE A PYTHON PROGRAM TO FIND THE VOLUME OF A SPHERE WITH DIAMETRE 12 CM"
   ]
  },
  {
   "cell_type": "code",
   "execution_count": 3,
   "metadata": {},
   "outputs": [
    {
     "name": "stdout",
     "output_type": "stream",
     "text": [
      "volume of the sphere :\n",
      "[905.142857142857] centimetre cube\n"
     ]
    }
   ],
   "source": [
    "    #volume of a sphere \"V\" with the given diametere \"d\" ,formula = (4/3)*pi*[(D/2)**3]\n",
    "pi = 22/7\n",
    "d = 12\n",
    "volume = [(4/3)*pi*((d/2)**3)]\n",
    "print(\"volume of the sphere :\" )\n",
    "print(volume,\"centimetre cube\")\n",
    "        "
   ]
  },
  {
   "cell_type": "markdown",
   "metadata": {},
   "source": [
    "# problem statement_2: write a program which will find all such numbers which are divisible by 7 but are not a multiple of 5,between 2000 and 3000(both included).the numbers obtained should be printed in a comma seperated sequence on a single line."
   ]
  },
  {
   "cell_type": "code",
   "execution_count": 22,
   "metadata": {},
   "outputs": [
    {
     "name": "stdout",
     "output_type": "stream",
     "text": [
      "['2002', '2009', '2016', '2023', '2037', '2044', '2051', '2058', '2072', '2079', '2086', '2093', '2107', '2114', '2121', '2128', '2142', '2149', '2156', '2163', '2177', '2184', '2191', '2198', '2212', '2219', '2226', '2233', '2247', '2254', '2261', '2268', '2282', '2289', '2296', '2303', '2317', '2324', '2331', '2338', '2352', '2359', '2366', '2373', '2387', '2394', '2401', '2408', '2422', '2429', '2436', '2443', '2457', '2464', '2471', '2478', '2492', '2499', '2506', '2513', '2527', '2534', '2541', '2548', '2562', '2569', '2576', '2583', '2597', '2604', '2611', '2618', '2632', '2639', '2646', '2653', '2667', '2674', '2681', '2688', '2702', '2709', '2716', '2723', '2737', '2744', '2751', '2758', '2772', '2779', '2786', '2793', '2807', '2814', '2821', '2828', '2842', '2849', '2856', '2863', '2877', '2884', '2891', '2898', '2912', '2919', '2926', '2933', '2947', '2954', '2961', '2968', '2982', '2989', '2996', '3003', '3017', '3024', '3031', '3038', '3052', '3059', '3066', '3073', '3087', '3094', '3101', '3108', '3122', '3129', '3136', '3143', '3157', '3164', '3171', '3178', '3192', '3199']\n"
     ]
    }
   ],
   "source": [
    "mylist = []\n",
    "for x in range(2000,3201):\n",
    "    if (x%7==0) and (x%5!=0):\n",
    "        mylist.append(str(x))\n",
    "print(l)\n"
   ]
  },
  {
   "cell_type": "code",
   "execution_count": null,
   "metadata": {},
   "outputs": [],
   "source": []
  },
  {
   "cell_type": "code",
   "execution_count": null,
   "metadata": {},
   "outputs": [],
   "source": []
  }
 ],
 "metadata": {
  "kernelspec": {
   "display_name": "Python 3",
   "language": "python",
   "name": "python3"
  },
  "language_info": {
   "codemirror_mode": {
    "name": "ipython",
    "version": 3
   },
   "file_extension": ".py",
   "mimetype": "text/x-python",
   "name": "python",
   "nbconvert_exporter": "python",
   "pygments_lexer": "ipython3",
   "version": "3.7.0"
  }
 },
 "nbformat": 4,
 "nbformat_minor": 2
}
